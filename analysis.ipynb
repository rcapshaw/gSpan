{
 "cells": [
  {
   "cell_type": "code",
   "execution_count": 1,
   "metadata": {
    "collapsed": false,
    "jupyter": {
     "outputs_hidden": false
    }
   },
   "outputs": [
    {
     "name": "stdout",
     "output_type": "stream",
     "text": [
      "/data/experiments/DocRED/gSpan/gspan_mining\n"
     ]
    }
   ],
   "source": [
    "%cd gspan_mining\n",
    "from config import parser\n",
    "from main import main"
   ]
  },
  {
   "cell_type": "code",
   "execution_count": 2,
   "metadata": {
    "collapsed": false,
    "jupyter": {
     "outputs_hidden": false
    }
   },
   "outputs": [
    {
     "name": "stdout",
     "output_type": "stream",
     "text": [
      "Populating the interactive namespace from numpy and matplotlib\n"
     ]
    }
   ],
   "source": [
    "%pylab inline"
   ]
  },
  {
   "cell_type": "code",
   "execution_count": 3,
   "metadata": {},
   "outputs": [],
   "source": [
    "# This is just really handy if you make changes to the files.\n",
    "%load_ext autoreload\n",
    "%autoreload 2"
   ]
  },
  {
   "cell_type": "code",
   "execution_count": 4,
   "metadata": {
    "collapsed": false,
    "jupyter": {
     "outputs_hidden": false
    }
   },
   "outputs": [],
   "source": [
    "args_str = '-s 3 -e 2 -v True -d True -p True -n 10 -w True /data/experiments/DocRED/DataViewer/results/docred_train.data'\n",
    "FLAGS, _ = parser.parse_known_args(args=args_str.split())"
   ]
  },
  {
   "cell_type": "code",
   "execution_count": null,
   "metadata": {
    "collapsed": false,
    "jupyter": {
     "outputs_hidden": false
    }
   },
   "outputs": [],
   "source": [
    "gs = main(FLAGS)"
   ]
  },
  {
   "cell_type": "markdown",
   "metadata": {},
   "source": [
    "## plot graphs in database"
   ]
  },
  {
   "cell_type": "code",
   "execution_count": null,
   "metadata": {
    "collapsed": false,
    "jupyter": {
     "outputs_hidden": false
    }
   },
   "outputs": [],
   "source": [
    "for g in gs.graphs.values():\n",
    "    g.plot()"
   ]
  },
  {
   "cell_type": "code",
   "execution_count": 6,
   "metadata": {},
   "outputs": [],
   "source": [
    "from gspan import gSpan\n",
    "min_support = 30\n",
    "alt = False"
   ]
  },
  {
   "cell_type": "code",
   "execution_count": 7,
   "metadata": {
    "tags": []
   },
   "outputs": [],
   "source": [
    "gs = gSpan(\n",
    "    database_file_name='/data/experiments/DocRED/DataViewer/results/docred_train.data',\n",
    "    min_support=min_support,\n",
    "    min_num_vertices=2,\n",
    "    # max_num_vertices=3,\n",
    "    min_num_edges=1,\n",
    "#     max_ngraphs=5,\n",
    "    is_undirected=False,\n",
    "    verbose=False,\n",
    "    visualize=False,\n",
    "    where=True,\n",
    "    alternative_support=alt\n",
    ")\n",
    "\n",
    "\"\"\"Run the gSpan algorithm.\"\"\"\n",
    "# gathered = gs.run(gather=True)\n",
    "# print(len(gathered))\n",
    "# print(list(pdfs.edge for pdfs in gathered[0]))\n",
    "gs.run()\n",
    "df1 = gs._report_df\n",
    "df1.to_pickle(f'all_patterns_support_{min_support}{\"_alt\" if alt else \"\"}.pkl')\n",
    "\n"
   ]
  },
  {
   "cell_type": "code",
   "execution_count": null,
   "metadata": {},
   "outputs": [],
   "source": []
  },
  {
   "cell_type": "code",
   "execution_count": 57,
   "metadata": {},
   "outputs": [
    {
     "name": "stdout",
     "output_type": "stream",
     "text": [
      "[0, 12, 22, 28, 29, 33, 38, 44, 67, 76, 123, 128, 159, 170, 184, 188, 196, 223, 231, 236, 251, 279, 297, 314, 322, 333, 362, 375, 397, 423, 428, 433, 446, 483, 488, 519, 537, 542, 550, 552, 579, 601, 614, 634, 636, 660, 758, 783, 789, 805, 828, 854, 856, 877, 919, 966, 999, 1015, 1064, 1089, 1112, 1114, 1144, 1156, 1178, 1198, 1205, 1207, 1269, 1295, 1317, 1336, 1355, 1409, 1442, 1448, 1460, 1505, 1509, 1535, 1566, 1567, 1577, 1597, 1648, 1654, 1661, 1677, 1687, 1692, 1698, 1737, 1750, 1752, 1776, 1846, 1864, 1899, 1920, 1925, 1944, 1960, 1998, 2005, 2035, 2046, 2049, 2051, 2052, 2101, 2105, 2117, 2144, 2175, 2188, 2193, 2200, 2210, 2229, 2241, 2270, 2307, 2312, 2361, 2371, 2372, 2374, 2385, 2399, 2441, 2448, 2464, 2471, 2512, 2516, 2554, 2608, 2613, 2618, 2631, 2634, 2681, 2683, 2693, 2701, 2745, 2753, 2787, 2825, 2834, 2840, 2841, 2899, 2917, 2927, 2946, 2964, 2965, 3004, 3049]\n"
     ]
    }
   ],
   "source": [
    "gathered = gs.run(gather=True)\n",
    "print(list(sorted(set(pdfs.gid for pdfs in gathered[0]))))"
   ]
  },
  {
   "cell_type": "code",
   "execution_count": 8,
   "metadata": {},
   "outputs": [
    {
     "name": "stderr",
     "output_type": "stream",
     "text": [
      "CRITICAL:root:Unknown type 'list' for key ''\n"
     ]
    },
    {
     "data": {
      "application/vnd.jupyter.widget-view+json": {
       "model_id": "705af059484f47ddbdecf197305504bf",
       "version_major": 2,
       "version_minor": 0
      },
      "text/plain": [
       "PerspectiveWidget(columns=['index', 'support', 'description', 'num_vert', 'gids'])"
      ]
     },
     "metadata": {},
     "output_type": "display_data"
    }
   ],
   "source": [
    "from perspective import PerspectiveWidget, Table\n",
    "import pandas as pd\n",
    "df1 = pd.read_pickle(f'all_patterns_support_{min_support}{\"_alt\" if alt else \"\"}.pkl')\n",
    "PerspectiveWidget(df1)"
   ]
  },
  {
   "cell_type": "code",
   "execution_count": 9,
   "metadata": {},
   "outputs": [
    {
     "name": "stdout",
     "output_type": "stream",
     "text": [
      "t # 57\n",
      "v 0 LOC \n",
      "v 1 LOC \n",
      "v 2 LOC \n",
      "v 3 LOC \n",
      "e 0 1 P131\n",
      "e 1 2 P131\n",
      "e 1 3 P17\n"
     ]
    }
   ],
   "source": [
    "print(df1['description'][58])"
   ]
  },
  {
   "cell_type": "code",
   "execution_count": 10,
   "metadata": {},
   "outputs": [],
   "source": [
    "import itertools\n",
    "\n",
    "with open('/data/experiments/DocRED/DataViewer/results/docred_train.data', 'r', encoding='utf8') as graph:\n",
    "    transactions = []\n",
    "    for line in graph:\n",
    "        line = line.strip()\n",
    "        t, *rest = line.split()\n",
    "        if t == 't':\n",
    "            c = int(rest[-1])\n",
    "#             if c >= 5:\n",
    "#                 break\n",
    "            transactions.append({'v':[], 'e':[]})\n",
    "        elif t == 'v':\n",
    "            transactions[c][t].append(rest[-1])\n",
    "        else: # t == 'e':\n",
    "            transactions[c][t].append([int(rest[0]), int(rest[1]), rest[2]])\n",
    "    \n",
    "\n",
    "\n",
    "# for t in transactions:\n",
    "#     print()\n",
    "#     print(t)\n",
    "#     for i, e in enumerate(t['e']):\n",
    "#         print(f'#{i}: {t[\"v\"][e[0]]}_{e[0]} {t[\"v\"][e[1]]}_{e[1]} {e[2]}')\n",
    "\n",
    "#     print()\n",
    "\n",
    "\n",
    "def get_edge_patterns(pattern):\n",
    "    pattern_dict = {'v':[], 'e':[]}\n",
    "    for line in pattern.split('\\n'):\n",
    "        line = line.strip()\n",
    "        t, *rest = line.split()\n",
    "        if t == 't':\n",
    "            continue\n",
    "        elif t == 'v':\n",
    "            pattern_dict[t].append(rest[-1])\n",
    "        else: # t == 'e':\n",
    "            pattern_dict[t].append([int(rest[0]), int(rest[1]), rest[2]])\n",
    "    return [(pattern_dict['v'][start], pattern_dict['v'][end], label) for start, end, label in pattern_dict['e']], pattern_dict\n",
    "\n",
    "\n",
    "def get_candidates(graph, edge_pattern):\n",
    "    vs = graph['v']\n",
    "    es = graph['e']\n",
    "    candidate_edges = []\n",
    "    for i, (start, end, label) in enumerate(es):\n",
    "        if (vs[start], vs[end], label) == edge_pattern:\n",
    "            candidate_edges.append(i)\n",
    "    return candidate_edges\n",
    "\n",
    "\n",
    "def trace(graph2, pattern2, steps, ignore_permutations=False):\n",
    "#     vs2 = pattern2['v']\n",
    "    es2 = pattern2\n",
    "    candidate_paths = itertools.product(*steps)\n",
    "    candidate_paths = [p for p in candidate_paths if len(p) == len(set(p))]\n",
    "    gvs = graph2['v']\n",
    "    ges = graph2['e']\n",
    "    out = []\n",
    "#     print(\"Candidates:\", candidate_paths)\n",
    "    varsets = list()\n",
    "    for cp2 in candidate_paths:\n",
    "        # Check if it's valid. We trust the labels and the types.\n",
    "        # This is basically a type of variable resolution, heh.\n",
    "        \n",
    "        variables = dict()\n",
    "        okay = True\n",
    "#         print(cp2)\n",
    "#         print(es2)\n",
    "        if len(cp2) == len(es2):\n",
    "            for step, e in zip(cp2, es2):\n",
    "#                 print(step, e)\n",
    "                v0, v1, _ = e\n",
    "                start, end, _ = ges[step]\n",
    "                if v0 in variables:\n",
    "#                     print(f\"{variables[v0]}!={start} ? (start): {variables}\")\n",
    "                    if variables[v0] != start:\n",
    "                        okay = False\n",
    "                        break\n",
    "                if v1 in variables:\n",
    "#                     print(f\"{variables[v1]}!={end} ? (end): {variables}\")\n",
    "                    if variables[v1] != end:\n",
    "                        okay = False\n",
    "                        break\n",
    "\n",
    "                variables[v0] = start\n",
    "                variables[v1] = end\n",
    "            if not okay:\n",
    "                continue\n",
    "            varset = set(variables.values())\n",
    "            # If we didn't assign the same value to different variables\n",
    "            if len(varset) == len(variables):\n",
    "                # If we haven't used exactly this set of values before.\n",
    "                # That is, if we change the order of values and it's still the same pattern,\n",
    "                # then it's just one instance of that pattern. Permutation invariance.\n",
    "                if varset in varsets and ignore_permutations:\n",
    "                    continue\n",
    "                varsets.append(varset)\n",
    "                out.append(cp2)\n",
    "            \n",
    "    return out\n",
    "\n",
    "\n",
    "def debug_one(df, index, verbose=True):\n",
    "    tot = 0\n",
    "    pattern = df['description'][index]\n",
    "    support = df['support'][index]\n",
    "    edge_patterns, pattern_dict = get_edge_patterns(pattern)\n",
    "    if verbose:\n",
    "        print(pattern)\n",
    "    for tr in transactions:\n",
    "        possible_steps = [get_candidates(tr, ep) for ep in edge_patterns]\n",
    "#         possible_steps = [[10], [3], [5], [9]]\n",
    "        founds = trace(tr, pattern_dict['e'], possible_steps)\n",
    "        if verbose:\n",
    "            print(founds)\n",
    "        tot += len(founds)\n",
    "    if verbose:\n",
    "        print(index, tot, support)\n",
    "\n",
    "\n",
    "def debug_all(df):\n",
    "    for i, (pattern, support) in enumerate(zip(df['description'], df['support'])):\n",
    "        tot = 0\n",
    "        edge_patterns, pattern_dict = get_edge_patterns(pattern)\n",
    "        for tr in transactions:\n",
    "            possible_steps = [get_candidates(tr, ep) for ep in edge_patterns]\n",
    "            founds = trace(tr, pattern_dict['e'], possible_steps)\n",
    "    #         print(founds)\n",
    "            tot += len(founds)\n",
    "        if tot != support:\n",
    "            print(i, tot, support)\n",
    "    \n",
    "# debug_one(df1, 19)\n",
    "# debug_all(df1)\n",
    "\n",
    "# from multiprocessing.dummy import Pool, Lock\n",
    "# def make_corrections(df_in):\n",
    "#     counts = [0 for _ in range(len(df_in['support']))]\n",
    "#     lock = Lock()\n",
    "#     def count_(inp):\n",
    "# #         print(inp)\n",
    "#         i, pattern = inp\n",
    "#         tot = 0\n",
    "#         edge_patterns, pattern_dict = get_edge_patterns(pattern)\n",
    "#         for tr in transactions:\n",
    "#             possible_steps = [get_candidates(tr, ep) for ep in edge_patterns]\n",
    "#             founds = trace(tr, pattern_dict['e'], possible_steps)\n",
    "#     #         print(founds)\n",
    "#             tot += len(founds)\n",
    "#         lock.acquire()\n",
    "#         print(i, tot)\n",
    "#         counts[i] = tot\n",
    "#         lock.release()\n",
    "#     pool = Pool(23)\n",
    "# #     print(list(zip(*enumerate(df_in['description']))))\n",
    "#     pool.map(count_, enumerate(df_in['description']))\n",
    "#     df_in[\"counts\"] = counts\n",
    "#     return df_in\n"
   ]
  },
  {
   "cell_type": "code",
   "execution_count": 11,
   "metadata": {},
   "outputs": [],
   "source": [
    "# df2 = pd.read_pickle(f'all_patterns_support_{min_support}_wcounts.pkl')"
   ]
  },
  {
   "cell_type": "code",
   "execution_count": 12,
   "metadata": {},
   "outputs": [
    {
     "name": "stdout",
     "output_type": "stream",
     "text": [
      "384,0,128,96,448,224,416,320,704,608,480,288,256,640,672,512,129,449,544,417,576,609,673,321,1,225,641,289,32,513,352,450,674,130,610,226,577,451,545,675,418,353,290,642,385,578,2,514,611,354,546,452,322,291,419,355,579,453,612,292,547,33,386,356,323,515,420,676,454,293,548,613,643,34,357,227,580,324,294,677,421,387,644,228,325,705,549,295,358,645,35,296,455,229,678,422,550,359,297,516,581,551,36,230,423,456,298,582,614,679,646,388,583,299,37,192,389,457,231,647,300,517,584,615,648,193,680,232,424,585,390,616,160,518,425,681,233,617,38,649,682,618,586,619,161,683,519,391,587,234,620,392,194,235,588,131,520,236,650,393,684,39,237,64,621,651,40,65,521,238,195,685,589,41,132,66,394,622,196,239,197,67,623,395,686,522,68,590,396,687,69,624,42,397,688,591,240,398,523,689,241,524,690,625,257,399,525,626,258,526,691,242,400,527,401,692,259,97,198,736,3,402,199,528,403,737,738,4,98,404,200,693,405,99,5,652,653,406,694,100,407,654,101,260,529,102,695,261,103,243,696,244,104,697,105,530,245,655,531,246,656,698,262,247,657,532,699,248,263,70,658,533,426,264,534,700,659,427,535,265,701,266,428,429,660,702,536,6,703,430,7,431,432,433,768,434,769,8,71,72,9,770,771,772,73,74,435,75,76,77,436,78,537,267,133,134,627,437,79,360,80,628,135,438,439,136,361,81,362,106,629,137,82,363,138,107,630,440,139,83,364,84,441,140,10,301,365,302,303,366,85,11,304,141,86,305,142,87,12,306,367,442,13,307,308,443,368,14,444,268,309,592,445,310,538,369,269,446,593,311,539,312,270,108,370,313,540,594,314,541,315,271,595,371,316,372,542,481,373,482,15,543,16,447,374,109,143,17,800,110,375,408,144,111,832,409,801,112,376,802,410,145,18,377,803,706,19,833,411,804,834,707,146,412,378,835,147,20,836,379,413,21,414,415,708,22,23,837,709,805,864,806,710,380,43,807,865,661,711,24,808,381,25,662,382,663,383,44,26,809,712,896,810,713,866,27,867,714,715,631,716,45,28,897,483,717,201,898,46,868,202,458,899,29,718,869,203,47,900,459,870,204,871,317,48,460,901,205,872,318,902,49,206,30,326,207,838,319,873,50,903,839,461,327,904,31,51,462,905,840,960,928,148,52,463,906,328,464,149,961,465,329,150,841,811,53,929,962,907,151,466,208,330,812,552,152,553,963,54,842,209,467,331,153,719,468,554,55,964,908,332,720,469,555,56,154,965,470,57,210,471,632,333,472,155,721,58,272,334,473,633,335,273,156,634,336,722,635,723,474,556,813,636,557,337,475,814,724,157,558,815,158,874,338,339,816,664,159,559,476,637,665,340,477,560,992,341,909,817,993,843,875,561,818,876,844,478,910,845,994,638,911,211,639,212,995,912,819,666,1024,913,820,213,877,667,996,846,821,914,878,88,1025,59,562,60,822,1026,915,274,823,916,997,61,89,563,917,1027,62,90,918,879,275,668,596,919,91,1028,824,564,920,276,669,825,92,880,277,565,921,826,930,597,827,1029,931,598,922,93,828,932,1030,923,881,670,599,829,94,882,671,1031,95,924,847,933,830,1088,883,1032,925,848,998,831,278,926,113,1033,999,927,1089,279,849,114,1120,1034,280,934,1090,115,1121,850,600,1152,1035,281,935,116,1122,282,601,936,283,1153,602,1091,1123,284,1154,1092,603,1155,937,851,1156,884,1093,604,852,938,885,853,1157,605,1094,854,1000,939,1158,1001,855,1095,886,606,1159,1002,607,1096,856,887,1184,1160,857,1097,940,858,888,1185,1098,859,889,1161,1186,1003,860,1187,890,117,861,1162,891,118,892,862,1163,1099,893,863,1100,1164,1036,119,1216,120,1165,1101,121,1217,894,1037,1102,1166,895,1218,1103,122,1248,1219,1038,1188,123,1104,1220,1189,1039,1040,1190,1041,1191,941,566,1192,567,568,942,1042,943,569,944,1193,945,570,946,1043,947,948,1044,1045,1046,1221,949,1047,950,1222,1048,951,952,1194,1195,1223,1056,1196,1224,953,1225,954,1197,1226,955,1227,956,1198,1228,1057,342,1199,1229,1200,1249,1230,1201,1058,1250,343,1202,1059,1251,344,1231,1203,345,571,1252,346,572,1253,347,573,574,348,575,1232,349,350,351,1280,214,1281,215,1060,216,1204,1312,1205,217,1061,218,1062,1313,1206,1124,219,1063,1314,1207,220,1315,1316,285,1208,1317,221,1209,1125,222,286,1210,1064,1126,1211,1127,63,287,1128,1212,1376,1344,1213,1377,1378,1129,1214,1345,223,1379,1408,1130,1380,1215,1409,1381,1131,1410,1065,1440,1132,1382,1411,1441,1133,1412,1442,1383,1413,1282,1414,1443,1283,1134,1444,1284,1384,1385,1445,1135,1446,1285,1386,1136,1137,1387,1447,1286,1448,1388,1138,1049,1287,1346,1139,1389,1288,1050,1289,1066,1051,1067,1068,1052,1167,1290,1053,1415,1168,1416,1069,1291,1070,1417,1292,1254,1418,1293,1449,1255,1294,1419,1256,1054,1420,1295,1257,1296,1055,1258,1071,1390,1259,1297,1391,1472,1473,1072,1450,1347,1073,1451,1474,1260,1348,1392,1318,1074,1261,1452,1319,1349,1393,1262,1075,1298,1233,1320,1453,1394,1263,1475,1454,1395,1264,1321,1234,1299,966,1322,1396,1265,1476,1235,1397,1266,1477,1398,1267,967,1268,1399,1269,1076,968,1478,1270,1400,1455,969,1401,1456,970,1457,971,1077,1402,972,1458,1459,973,1078,1460,1323,974,1079,1403,1461,1080,1462,1404,1405,975,1463,1406,1479,1350,1480,1407,976,1351,1504,1481,1352,1464,1505,1353,977,1465,1466,1354,1236,1467,1355,1237,978,1468,1238,1506,1469,1507,1239,1356,1508,1470,1240,1357,1471,1509,1358,1241,1359,1536,1242,1360,1537,1361,1538,1362,1363,1539,1271,1243,1364,1540,1244,1365,1245,1366,739,1541,740,1367,741,1542,1368,742,1369,743,1272,1543,1273,1274,744,1370,1544,1482,1545,1546,1275,745,1547,1548,746,1276,747,1549,1277,1483,1550,748,1278,1484,1279,1485,1568,1551,1486,1569,1324,749,1325,1570,1487,1552,1488,750,1553,1554,1326,751,1489,752,1490,1371,753,1372,1327,1491,754,1328,1492,755,1493,1329,756,1330,1300,757,1331,1301,758,1332,1302,1571,1333,1510,1572,1334,1573,759,1303,1304,760,1305,761,1306,762,1373,1307,1374,763,1308,1511,764,1375,765,1421,1422,766,1423,1574,767,1600,1575,1601,1576,1602,1424,1603,1632,1577,1425,1604,1633,1605,1578,1606,1607,1579,1634,1608,1635,1609,1580,1581,124,1636,1426,1637,1582,125,1638,126,1639,1583,1494,1640,1081,1495,1584,1427,1428,1585,1496,1586,1429,1587,1610,979,980,1497,1430,1611,1588,1612,981,1589,1498,982,1431,1499,1590,1613,1614,1500,1591,127,1592,1501,1432,1615,983,1502,984,1593,1616,1594,1433,1617,1503,1595,1434,1596,1696,1435,1597,1618,1697,1598,1619,1698,1599,1436,1664,1620,1728,1729,1665,1437,985,1621,1699,1438,1666,1700,1439,1667,986,987,988,989,1701,1622,1555,1702,1623,1556,1624,1703,1625,1704,1557,1558,1705,1706,1626,1559,1627,1707,1628,1708,1560,1709,1561,1629,1562,1710,1563,1630,1711,1564,1668,1565,1669,1631,1566,1792,1670,1567,1793,1794,1712,1671,1713,990,1714,991,1672,1715,1105,1673,1716,1106,1674,1856,1857,1107,1675,1108,1858,1676,1717,1677,1109,1859,1824,1678,1860,1825,1679,1861,1826,1827,1828,1110,1246,1111,1829,1795,1112,1247,1113,1730,1888,1114,1731,1732,1733,1734,1115,1735,1116,1736,1117,1737,1738,1118,1119,1739,1740,1920,1760,1830,1921,1922,1761,1831,1762,1680,1763,1681,1832,1764,1682,1833,1834,1683,1741,1684,1765,1766,1767,1768,1309,1310,1769,1311,1770,1742,1952,1771,1953,1743,1954,1744,1772,1745,1773,1955,1641,1746,1642,1774,1643,1775,1644,1956,1747,1776,1957,1777,1685,1748,1686,1778,1889,1958,1959,1890,1687,1960,1891,1961,1749,1892,1796,1779,1797,1962,1780,1750,1963,1798,1781,725,1751,1964,726,1893,1965,1752,1894,1782,1895,1835,1923,1783,1966,1896,1753,1924,1754,1925,1799,1897,1926,1755,1898,1927,1784,1928,1645,1899,1756,1785,727,728,1786,1929,1787,729,1900,730,1930,1788,1646,1757,1931,1901,1789,1902,1790,1758,1903,957,731,1932,1759,958,1791,1933,2016,732,1934,1904,2017,733,1935,734,1718,1836,735,1905,1688,2048,1837,1689,2049,1719,1906,1838,2050,1839,1907,1690,1908,2051,1691,1692,1693,1909,1840,1910,1911,1720,1841,1862,2052,1912,1647,1694,1721,1842,1913,1695,2053,1648,1984,1722,1649,2080,1723,1512,1650,1863,1914,1724,1864,2081,1513,2018,1915,2082,1651,2083,2084,1916,1936,1917,2054,959,1937,2055,1514,2112,2056,1938,1515,1939,2113,1940,2085,2057,2114,1941,1942,2086,2087,2115,1918,2058,1919,2116,2088,2117,2144,2059,2145,2089,2060,2118,2090,2146,2119,2147,2061,2120,2062,2148,2091,1865,2063,1866,2149,2121,2150,2092,1867,2122,1652,2019,2093,2151,2020,2064,2021,2123,2094,2065,2152,2095,2022,1868,2153,2023,2066,2154,2124,2024,1869,2096,2025,2125,2067,2097,2026,2098,2068,2155,2126,2069,1870,2070,2099,2100,2127,1516,1871,2071,2156,1517,2101,2128,1518,2072,1519,2157,2073,1943,1872,1944,2074,1520,1873,1945,1874,2129,1946,1875,1521,1947,1522,1948,1523,1843,1949,1844,2130,1524,1950,1845,1004,1005,2131,1525,1951,1846,1526,2132,2176,1527,2027,1006,2177,1528,1847,2028,2178,2133,1529,2029,2134,1848,1530,1849,479,2179,1007,2135,2030,1850,1008,2208,1531,2031,1009,1851,2180,2209,1010,1011,2210,2181,1532,1533,1852,1534,1853,2211,2182,1012,1854,2212,1535,2136,2183,1855,2240,2213,2184,2137,2214,2241,2138,2158,2185,2242,2272,2159,2215,2186,2139,2160,2140,2161,2216,2187,2273,2141,2142,2243,2217,2188,1082,2244,2218,2189,2274,1013,2190,1083,1014,2275,1084,2245,2191,1015,1085,2219,2192,2246,1086,1016,2220,2247,1087,2248,2193,2221,2194,2249,2222,2250,2304,2251,2195,1017,2305,2252,2223,1876,2196,1018,2276,1877,2277,2197,1878,2253,2278,2224,2198,2254,2279,2225,2255,2226,2280,1985,1879,2227,2162,1880,1986,2228,2256,2199,1019,2229,1987,2163,1988,1020,2257,2164,1989,1881,2258,1021,2230,2165,1022,2200,1990,2231,2201,2232,1882,2259,1023,2233,2260,2261,2166,2336,1991,2143,1992,2234,2262,2337,2167,2263,1993,2368,2281,1883,2235,2264,2369,2168,2236,1884,2032,2282,1800,2265,2338,2370,2169,2033,2339,2283,2371,2266,2034,1994,1885,2284,2372,2340,1886,2373,2267,1887,2341,2374,2268,2400,1801,1802,2269,2270,1803,2342,1804,2343,2344,1805,2345,484,2346,485,2347,2348,2349,2170,2350,2075,2171,2271,2172,2432,2351,2433,2352,2173,2353,1806,2354,1807,2174,2434,1808,2435,1809,2175,2355,2076,2464,1810,2436,2356,2437,2077,1811,2438,2078,2357,2079,2439,2285,1812,2286,2440,2358,2202,2401,2496,2359,2203,2497,1813,2441,2204,2465,2498,1814,2466,2442,2467,2499,2468,2443,1815,2444,2445,1816,2469,2237,2446,2470,2360,1817,2238,1818,2447,2361,2362,2239,2363,2448,2364,1819,2449,2471,2528,2205,2472,1995,2529,1820,2473,2530,2206,1821,2531,2474,2207,2532,1822,2475,1823,2560,2450,2592,2500,2451,2501,2561,2533,2476,2452,2593,2562,2502,2594,2503,2504,2477,2563,2453,2595,1996,2505,2564,2478,2565,2596,2479,2597,2480,2598,2566,2481,2599,2482,2600,2601,2567,1997,2602,1998,2603,1999,2604,2000,2001,2002,2003,2004,2005,2006,2007,2008,2009,2010,2011,2506,2012,2507,2508,2509,2013,2510,2014,2511,2035,2512,1967,2015,1968,2513,2036,2624,1969,2625,1970,2037,2626,2514,2515,2627,1971,2038,2628,1972,2516,1973,2629,2517,2518,2483,2630,1974,2484,2631,2632,1975,2519,1976,2633,2520,2521,2634,1977,2522,2375,2635,2376,2377,1978,2378,1979,2379,1980,2485,1981,2380,2486,2568,2381,1982,2382,2487,1983,2383,2488,2656,2489,2636,2569,2657,2384,2637,2658,2570,2385,2659,2523,2454,2571,2660,2524,2661,2525,2455,2572,2662,2456,2526,2573,2490,2527,2688,2491,2492,2574,2457,2493,2458,2494,2689,2690,2459,2386,2460,2495,2461,2387,2306,2720,2307,2721,2691,2388,2462,2722,2723,2463,2389,2724,2725,2752,2390,2692,2391,2693,2726,2727,2694,2728,2729,2695,2696,2697,2730,2392,2698,2393,2731,2394,2732,2733,486,2734,1335,2735,1336,2736,2737,487,1337,2605,488,1338,2606,2395,1339,1340,2396,2607,489,490,1341,2397,2608,491,1342,2398,1343,2399,492,2784,493,2785,494,2609,2738,2786,2610,495,496,2787,2788,2789,497,2611,2739,2612,2790,498,2613,499,500,2791,2792,2614,501,502,2793,2615,2402,503,504,2403,2308,1725,505,2404,1726,2309,506,2405,507,2616,2310,508,2406,509,2407,2311,510,2312,2408,1727,2617,2313,2618,2848,2314,2849,2409,2575,2619,2620,2850,2576,2410,2621,2411,2577,2622,2412,2623,2578,2413,2880,2579,2881,2414,2415,2580,2581,2416,2417,2582,2851,2583,2753,2852,2418,2754,2853,2755,2756,2584,2854,2757,2855,2585,2419,2758,2856,2586,2759,2587,2760,2420,2588,2857,2761,2421,2422,2762,2423,2589,2882,2858,2590,2763,2883,2591,2884,2764,2859,2816,2424,2912,2765,2885,2766,2886,2767,2913,2914,2817,2887,2915,2818,511,2916,2944,2888,2819,2768,2945,2820,2889,2917,2769,2890,2946,2918,2947,2891,2770,2919,2771,2920,2948,2892,2893,2772,2773,2894,2921,2895,2922,2774,2923,2924,2740,2925,2896,2741,2926,2897,2898,2927,2742,2899,2743,2928,2900,2860,2901,2861,2663,2902,2862,2664,2903,2863,2864,2775,2776,2777,2904,2778,2905,2906,2779,2665,2949,2666,2929,2950,2667,2930,2951,2668,2669,2931,2670,2821,2671,2822,2823,2824,2672,2825,2673,2674,2675,2826,2827,2676,2828,2932,2829,2830,2933,2677,2678,2934,2831,2679,2832,2833,2935,2936,2865,2866,2834,2907,2908,2909,2835,2836,2910,2837,2911,2838,2680,2976,2839,2681,2780,2977,2781,2840,2978,2682,2979,2782,2867,2841,2683,2868,2842,2783,2869,2684,2843,2844,2870,3008,2845,2871,3009,3010,2685,2686,3011,2687,3012,3013,2980,3014,2937,3015,2981,3016,3017,3040,2938,2982,3041,3018,3042,3019,2939,3043,2983,3020,3044,2940,3045,3021,2984,3022,2985,3046,3023,3047,3024,2986,3048,2987,3049,2941,2988,3025,3050,2989,2990,3026,3051,3052,2991,3053,3027,2942,2943,2992,3028,3029,3030,3031,3032,3033,3034,3035,3036,2638,2993,2639,2994,2640,2995,2996,2039,2997,3037,2998,1140,3038,2999,1141,3039,1142,3000,2040,1143,2041,3001,1144,3002,2042,1145,2043,3003,3004,1146,2044,3005,3006,1147,3007,1148,2045,1149,2046,1150,2047,1151,2102,2103,2104,2105,2106,2107,2108,2109,2110,2111,2641,2642,2643,2644,2645,2646,2647,2648,2649,2650,2651,2652,2653,2654,2655,2744,2745,2746,2534,2535,2536,2537,2538,2539,2540,2872,2873,2874,2875,2876,2877,2878,2879,2541,2542,2543,2544,2545,2546,2547,2548,2549,2550,2551,2552,2553,2554,2555,2556,2557,2558,2559,2699,2700,2701,2702,2703,2704,2747,2748,2749,2750,2751,2705,2706,2707,2708,2709,2710,2711,1169,1170,2712,1171,1172,1173,1174,2713,1175,2714,1176,2715,2716,1177,2717,1178,2718,2719,1179,1180,1181,1182,1183,2365,2366,2367,2315,2316,2317,2318,2319,2320,2321,2322,2323,2324,2325,2326,2327,2328,2329,2330,2331,2332,2333,2334,2335,2846,2952,2953,2954,2955,2956,2957,2958,2959,2960,2961,2962,2963,2964,2965,2966,2967,2968,2969,2970,2971,2972,2973,2974,2975,1653,1654,1655,1656,1657,1658,1659,1660,1661,1662,1663,2287,2288,2289,2290,2291,2292,2293,2294,2295,2296,2297,2298,2299,2300,2301,2302,2303,2425,2426,2427,2428,2429,2847,2430,2431,773,774,775,776,777,778,779,780,781,782,783,784,785,786,787,788,789,790,791,792,793,794,795,796,797,798,799,2794,2795,2796,2797,2798,2799,2800,2801,2802,2803,2804,2805,2806,2807,2808,2809,2810,2811,2812,2813,2814,2815,162,163,164,165,166,167,168,169,170,171,172,173,174,175,176,177,178,179,180,181,182,183,184,185,186,187,188,189,190,191,249,250,251,252,253,254,255,"
     ]
    },
    {
     "name": "stderr",
     "output_type": "stream",
     "text": [
      "CRITICAL:root:Unknown type 'list' for key ''\n"
     ]
    },
    {
     "name": "stdout",
     "output_type": "stream",
     "text": [
      "\n"
     ]
    },
    {
     "data": {
      "application/vnd.jupyter.widget-view+json": {
       "model_id": "7f640c584cec4d8ca79404e25f4ae693",
       "version_major": 2,
       "version_minor": 0
      },
      "text/plain": [
       "PerspectiveWidget(columns=['index', 'support', 'description', 'num_vert', 'gids', 'counts'])"
      ]
     },
     "metadata": {},
     "output_type": "display_data"
    }
   ],
   "source": [
    "import multiprocessing as mp\n",
    "import numpy as np\n",
    "\n",
    "def count_(inp):\n",
    "#         print(inp)\n",
    "    counts = np.zeros(len(df1['support']), dtype=int)\n",
    "    j, tr = inp\n",
    "    tot = 0\n",
    "    for i, pattern in enumerate(df1['description']):\n",
    "        edge_patterns, pattern_dict = get_edge_patterns(pattern)\n",
    "        possible_steps = [get_candidates(tr, ep) for ep in edge_patterns]\n",
    "        founds = trace(tr, pattern_dict['e'], possible_steps, ignore_permutations=True)\n",
    "        counts[i] += len(founds)\n",
    "    print(f'{j},', end='')\n",
    "    return counts\n",
    "\n",
    "def make_corrections_2(df_in):\n",
    "    lock = Lock()\n",
    "    p = mp.Pool(mp.cpu_count())\n",
    "    res = p.map_async(count_, enumerate(transactions))\n",
    "    p.close()\n",
    "    p.join()\n",
    "    print()\n",
    "#     print(np.sum(res.get(), axis=0))\n",
    "    df_in[\"counts\"] = np.sum(res.get(), axis=0)\n",
    "    return df_in\n",
    "    \n",
    "# df2 = pd.read_pickle(f'all_patterns_support_{min_support}_wcounts_2.pkl')\n",
    "\n",
    "\n",
    "df2 = make_corrections_2(df1)\n",
    "df2.to_pickle(f'all_patterns_support_{min_support}_wcounts_noperms_gids.pkl')\n",
    "PerspectiveWidget(df2)\n",
    "\n",
    "\n",
    "\n",
    "\n",
    "\n",
    "\n"
   ]
  },
  {
   "cell_type": "code",
   "execution_count": 50,
   "metadata": {},
   "outputs": [
    {
     "name": "stdout",
     "output_type": "stream",
     "text": [
      "35318/38180: 0.9250392875851231%\n"
     ]
    }
   ],
   "source": [
    "# Now we want to calculate the coverage the patterns have of the dev/eval set.\n",
    "# Then after we want to do the same for predictions (which will need to be formatted...)\n",
    "\n",
    "# Document coverage:\n",
    "# Basically do the counting but mark triples which are included.\n",
    "\n",
    "def trace_coverage(graph2, pattern2, steps, coverage, ignore_permutations=True):\n",
    "#     vs2 = pattern2['v']\n",
    "    es2 = pattern2\n",
    "    candidate_paths = itertools.product(*steps)\n",
    "    candidate_paths = [p for p in candidate_paths if len(p) == len(set(p))]\n",
    "    gvs = graph2['v']\n",
    "    ges = graph2['e']\n",
    "    if coverage is None:\n",
    "        coverage = np.zeros(len(ges), dtype=int)\n",
    "#     print(\"Candidates:\", candidate_paths)\n",
    "    varsets = list()\n",
    "    for cp2 in candidate_paths:\n",
    "        # Check if it's valid. We trust the labels and the types.\n",
    "        # This is basically a type of variable resolution, heh.\n",
    "        \n",
    "        variables = dict()\n",
    "        okay = True\n",
    "#         print(cp2)\n",
    "#         print(es2)\n",
    "        if len(cp2) == len(es2):\n",
    "            for step, e in zip(cp2, es2):\n",
    "#                 print(step, e)\n",
    "                v0, v1, _ = e\n",
    "                start, end, _ = ges[step]\n",
    "                if v0 in variables:\n",
    "#                     print(f\"{variables[v0]}!={start} ? (start): {variables}\")\n",
    "                    if variables[v0] != start:\n",
    "                        okay = False\n",
    "                        break\n",
    "                if v1 in variables:\n",
    "#                     print(f\"{variables[v1]}!={end} ? (end): {variables}\")\n",
    "                    if variables[v1] != end:\n",
    "                        okay = False\n",
    "                        break\n",
    "\n",
    "                variables[v0] = start\n",
    "                variables[v1] = end\n",
    "            if not okay:\n",
    "                continue\n",
    "            varset = set(variables.values())\n",
    "            # If we didn't assign the same value to different variables\n",
    "            if len(varset) == len(variables):\n",
    "                # If we haven't used exactly this set of values before.\n",
    "                # That is, if we change the order of values and it's still the same pattern,\n",
    "                # then it's just one instance of that pattern. Permutation invariance.\n",
    "                if varset in varsets and ignore_permutations:\n",
    "                    continue\n",
    "                varsets.append(varset)\n",
    "                coverage[list(cp2)] = 1\n",
    "    return coverage\n",
    "\n",
    "\n",
    "def map_coverage(inp):\n",
    "#     print(inp)\n",
    "#     counts = np.zeros(len(df2['support']), dtype=int)\n",
    "    j, tr = inp\n",
    "    tot = 0\n",
    "    coverage = None\n",
    "    for i, pattern in enumerate(df2['description']):\n",
    "        edge_patterns, pattern_dict = get_edge_patterns(pattern)\n",
    "        possible_steps = [get_candidates(tr, ep) for ep in edge_patterns]\n",
    "        coverage = trace_coverage(tr, pattern_dict['e'], possible_steps, coverage)\n",
    "        if sum(coverage) == len(coverage):\n",
    "            break\n",
    "#         counts[i] += len(founds)\n",
    "#     print(f'{j},')\n",
    "    return np.sum(coverage), len(coverage)\n",
    "#     return counts\n",
    "\n",
    "\n",
    "def find_coverage(trs):\n",
    "    lock = Lock()\n",
    "    p = mp.Pool(mp.cpu_count())\n",
    "    res = p.map_async(map_coverage, enumerate(trs))\n",
    "    p.close()\n",
    "    p.join()\n",
    "    covered, total = zip(*res.get())\n",
    "    print(f'{sum(covered)}/{sum(total)}: {sum(covered)/sum(total)}%')\n",
    "#     print(sum(covered), sum(total))\n",
    "#     print(np.sum(res.get(), axis=0))\n",
    "#     df_in[\"counts\"] = np.sum(res.get(), axis=0)\n",
    "#     return df_in\n",
    "\n",
    "find_coverage(transactions)\n",
    "# map_coverage((0, transactions[0]))"
   ]
  },
  {
   "cell_type": "code",
   "execution_count": 49,
   "metadata": {},
   "outputs": [
    {
     "name": "stdout",
     "output_type": "stream",
     "text": [
      "11358/12323: 0.921691146636371%\n"
     ]
    }
   ],
   "source": [
    "with open('/data/experiments/DocRED/DataViewer/results/docred_dev.data', 'r', encoding='utf8') as graph:\n",
    "    transactions_dev = []\n",
    "    for line in graph:\n",
    "        line = line.strip()\n",
    "        t, *rest = line.split()\n",
    "        if t == 't':\n",
    "            c = int(rest[-1])\n",
    "#             if c >= 5:\n",
    "#                 break\n",
    "            transactions_dev.append({'v':[], 'e':[]})\n",
    "        elif t == 'v':\n",
    "            transactions_dev[c][t].append(rest[-1])\n",
    "        else: # t == 'e':\n",
    "            transactions_dev[c][t].append([int(rest[0]), int(rest[1]), rest[2]])\n",
    "find_coverage(transactions_dev)"
   ]
  },
  {
   "cell_type": "code",
   "execution_count": null,
   "metadata": {},
   "outputs": [],
   "source": [
    "# When I come back from vacation.\n",
    "# I need to make sure to redo a lot of this."
   ]
  }
 ],
 "metadata": {
  "anaconda-cloud": {},
  "kernelspec": {
   "display_name": "Python 3",
   "language": "python",
   "name": "python3"
  },
  "language_info": {
   "codemirror_mode": {
    "name": "ipython",
    "version": 3
   },
   "file_extension": ".py",
   "mimetype": "text/x-python",
   "name": "python",
   "nbconvert_exporter": "python",
   "pygments_lexer": "ipython3",
   "version": "3.6.13"
  }
 },
 "nbformat": 4,
 "nbformat_minor": 4
}
